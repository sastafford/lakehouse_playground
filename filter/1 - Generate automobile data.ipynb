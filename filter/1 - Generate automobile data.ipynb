{
 "cells": [
  {
   "cell_type": "code",
   "execution_count": 0,
   "metadata": {
    "application/vnd.databricks.v1+cell": {
     "cellMetadata": {
      "byteLimit": 2048000,
      "rowLimit": 10000
     },
     "inputWidgets": {},
     "nuid": "4bf051ed-5a97-4195-846f-d4a97f3f71f0",
     "showTitle": false,
     "tableResultSettingsMap": {},
     "title": ""
    }
   },
   "outputs": [],
   "source": [
    "%pip install dbldatagen"
   ]
  },
  {
   "cell_type": "code",
   "execution_count": 0,
   "metadata": {
    "application/vnd.databricks.v1+cell": {
     "cellMetadata": {
      "byteLimit": 2048000,
      "rowLimit": 10000
     },
     "inputWidgets": {},
     "nuid": "a4e33b06-0cb4-4d7e-bb02-5fa603e6bea6",
     "showTitle": false,
     "tableResultSettingsMap": {},
     "title": ""
    }
   },
   "outputs": [],
   "source": [
    "import dbldatagen as dg\n",
    "import ipywidgets as widgets\n",
    "from pyspark.sql.types import StructType, StructField,  StringType"
   ]
  },
  {
   "cell_type": "code",
   "execution_count": 0,
   "metadata": {
    "application/vnd.databricks.v1+cell": {
     "cellMetadata": {
      "byteLimit": 2048000,
      "rowLimit": 10000
     },
     "inputWidgets": {},
     "nuid": "fb2323c1-e28d-492b-a280-957fbb7ec9ea",
     "showTitle": false,
     "tableResultSettingsMap": {},
     "title": ""
    }
   },
   "outputs": [],
   "source": [
    "catalog_widget = widgets.Text(\n",
    "  value='users',\n",
    "  placeholder='users',\n",
    "  description='Catalog:',\n",
    "  disabled=False   \n",
    ")\n",
    "schema_widget = widgets.Text(\n",
    "  value='schema',\n",
    "  placeholder='schema',\n",
    "  description='Schema:',\n",
    "  disabled=False   \n",
    ")\n",
    "box = widgets.HBox([catalog_widget, schema_widget])  # For horizontal layout\n",
    "display(box)"
   ]
  },
  {
   "cell_type": "code",
   "execution_count": 0,
   "metadata": {
    "application/vnd.databricks.v1+cell": {
     "cellMetadata": {
      "byteLimit": 2048000,
      "rowLimit": 10000
     },
     "inputWidgets": {},
     "nuid": "85409e0f-c074-4886-afaf-c0b9c2e36a09",
     "showTitle": false,
     "tableResultSettingsMap": {},
     "title": ""
    }
   },
   "outputs": [],
   "source": [
    "catalog = catalog_widget.value\n",
    "schema = schema_widget.value\n",
    "table_name = catalog + \".\" + schema + \".test_vehicle_data\"\n",
    "print(table_name)"
   ]
  },
  {
   "cell_type": "code",
   "execution_count": 0,
   "metadata": {
    "application/vnd.databricks.v1+cell": {
     "cellMetadata": {
      "byteLimit": 2048000,
      "rowLimit": 10000
     },
     "inputWidgets": {},
     "nuid": "bee3ec05-5abe-40ae-9e2e-9890ee0af978",
     "showTitle": false,
     "tableResultSettingsMap": {},
     "title": ""
    }
   },
   "outputs": [],
   "source": [
    "sql = f\"\"\"CREATE TABLE IF NOT EXISTS {table_name} (\n",
    "                name STRING, \n",
    "                serial_number STRING, \n",
    "                license_plate STRING, \n",
    "                manufacturer STRING,\n",
    "                email STRING\n",
    "                ) USING DELTA\"\"\"\n",
    "\n",
    "print(sql)"
   ]
  },
  {
   "cell_type": "code",
   "execution_count": 0,
   "metadata": {
    "application/vnd.databricks.v1+cell": {
     "cellMetadata": {
      "byteLimit": 2048000,
      "rowLimit": 10000
     },
     "inputWidgets": {},
     "nuid": "c910c2a9-1322-40e0-918a-4f7fec9c3d4e",
     "showTitle": false,
     "tableResultSettingsMap": {},
     "title": ""
    }
   },
   "outputs": [],
   "source": [
    "spark.sql(sql)\n",
    "table_schema = spark.table(table_name).schema\n",
    "print(table_schema)"
   ]
  },
  {
   "cell_type": "code",
   "execution_count": 0,
   "metadata": {
    "application/vnd.databricks.v1+cell": {
     "cellMetadata": {
      "byteLimit": 2048000,
      "rowLimit": 10000
     },
     "inputWidgets": {},
     "nuid": "21d9612a-723d-4e6f-b7cc-d1f8abff9276",
     "showTitle": false,
     "tableResultSettingsMap": {},
     "title": ""
    }
   },
   "outputs": [],
   "source": [
    "shuffle_partitions_requested = 8\n",
    "partitions_requested = 8\n",
    "data_rows = 1000000\n",
    "  \n",
    "dataspec = (dg.DataGenerator(spark, rows=data_rows, partitions=partitions_requested, shufflePartitions=shuffle_partitions_requested)\n",
    "            .withSchema(table_schema))\n",
    "\n",
    "dataspec = (\n",
    "    dataspec\n",
    "        .withColumnSpec(\"name\", percentNulls=0.01, template=r\"\\\\w \\\\w|\\\\w a. \\\\w\")\n",
    "        .withColumnSpec(\n",
    "            \"serial_number\", minValue=1000000, maxValue=10000000, prefix=\"dr\", random=True\n",
    "        )\n",
    "        .withColumnSpec(\"license_plate\", template=r\"\\\\n-\\\\n\")\n",
    "        .withColumnSpec(\"manufacturer\", \"string\", values=['Toyota', 'Ford', 'Honda', 'Chevrolet', 'Kia'])\n",
    "        .withColumnSpec(\"email\", template=r\"\\\\w.\\\\w@\\\\w.com\")\n",
    "        \n",
    ")\n",
    "df1 = dataspec.build()\n",
    "\n",
    "df1.write.format(\"delta\").mode(\"overwrite\").saveAsTable(table_name)"
   ]
  },
  {
   "cell_type": "code",
   "execution_count": 0,
   "metadata": {
    "application/vnd.databricks.v1+cell": {
     "cellMetadata": {
      "byteLimit": 2048000,
      "rowLimit": 10000
     },
     "inputWidgets": {},
     "nuid": "41c5e4fd-94c3-4705-a421-1cdbaaeac836",
     "showTitle": false,
     "tableResultSettingsMap": {},
     "title": ""
    }
   },
   "outputs": [],
   "source": [
    "display(df1)"
   ]
  },
  {
   "cell_type": "code",
   "execution_count": 0,
   "metadata": {
    "application/vnd.databricks.v1+cell": {
     "cellMetadata": {
      "byteLimit": 2048000,
      "rowLimit": 10000
     },
     "inputWidgets": {},
     "nuid": "c80c2347-082f-47f2-9669-eb45ae91a6ff",
     "showTitle": false,
     "tableResultSettingsMap": {},
     "title": ""
    }
   },
   "outputs": [],
   "source": [
    "catalog = catalog_widget.value\n",
    "schema = schema_widget.value\n",
    "\n",
    "create_table_sql = f\"\"\"\n",
    "CREATE OR REPLACE TABLE {catalog}.{schema}.auto_users (\n",
    "    id INT,\n",
    "    name STRING,\n",
    "    manufacturer STRING\n",
    ")\n",
    "\"\"\"\n",
    "\n",
    "display(create_table_sql)"
   ]
  },
  {
   "cell_type": "code",
   "execution_count": 0,
   "metadata": {
    "application/vnd.databricks.v1+cell": {
     "cellMetadata": {
      "byteLimit": 2048000,
      "rowLimit": 10000
     },
     "inputWidgets": {},
     "nuid": "da3e60bd-bfa4-4747-8f38-d6fd9e7792a7",
     "showTitle": false,
     "tableResultSettingsMap": {},
     "title": ""
    }
   },
   "outputs": [],
   "source": [
    "spark.sql(create_table_sql)"
   ]
  },
  {
   "cell_type": "code",
   "execution_count": 0,
   "metadata": {
    "application/vnd.databricks.v1+cell": {
     "cellMetadata": {
      "byteLimit": 2048000,
      "rowLimit": 10000
     },
     "inputWidgets": {},
     "nuid": "7a798c38-c6dd-4cec-aaed-ec47c651645f",
     "showTitle": false,
     "tableResultSettingsMap": {},
     "title": ""
    }
   },
   "outputs": [],
   "source": [
    "insert_rows_sql = f\"\"\"\n",
    "INSERT INTO {catalog}.{schema}.auto_users (id, name, manufacturer) VALUES\n",
    "(1, 'scott.stafford@databricks.com', 'Ford'),\n",
    "(2, 'Bob', 'CompanyB'),\n",
    "(3, 'Charlie', 'CompanyC')\n",
    "\"\"\"\n",
    "\n",
    "display(insert_rows_sql)"
   ]
  },
  {
   "cell_type": "code",
   "execution_count": 0,
   "metadata": {
    "application/vnd.databricks.v1+cell": {
     "cellMetadata": {
      "byteLimit": 2048000,
      "rowLimit": 10000
     },
     "inputWidgets": {},
     "nuid": "a495352d-de90-4757-9c22-a442e8d2d74c",
     "showTitle": false,
     "tableResultSettingsMap": {},
     "title": ""
    }
   },
   "outputs": [],
   "source": [
    "spark.sql(insert_rows_sql)"
   ]
  }
 ],
 "metadata": {
  "application/vnd.databricks.v1+notebook": {
   "computePreferences": null,
   "dashboards": [],
   "environmentMetadata": {
    "base_environment": "",
    "environment_version": "2"
   },
   "inputWidgetPreferences": null,
   "language": "python",
   "notebookMetadata": {
    "mostRecentlyExecutedCommandWithImplicitDF": {
     "commandId": 2860937170996242,
     "dataframes": [
      "_sqldf"
     ]
    },
    "pythonIndentUnit": 2
   },
   "notebookName": "1 - Generate automobile data",
   "widgets": {}
  },
  "language_info": {
   "name": "python"
  }
 },
 "nbformat": 4,
 "nbformat_minor": 0
}
